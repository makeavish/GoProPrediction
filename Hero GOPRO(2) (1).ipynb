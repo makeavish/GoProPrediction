{
 "cells": [
  {
   "cell_type": "code",
   "execution_count": 3,
   "metadata": {},
   "outputs": [],
   "source": [
    "import pandas as pd"
   ]
  },
  {
   "cell_type": "code",
   "execution_count": 4,
   "metadata": {},
   "outputs": [],
   "source": [
    "from pandas_datareader import data as wb"
   ]
  },
  {
   "cell_type": "code",
   "execution_count": 5,
   "metadata": {},
   "outputs": [],
   "source": [
    "GPRO = wb.DataReader('GPRO', data_source='yahoo', start ='2015-1-1')"
   ]
  },
  {
   "cell_type": "code",
   "execution_count": 6,
   "metadata": {},
   "outputs": [
    {
     "data": {
      "text/html": [
       "<div>\n",
       "<style scoped>\n",
       "    .dataframe tbody tr th:only-of-type {\n",
       "        vertical-align: middle;\n",
       "    }\n",
       "\n",
       "    .dataframe tbody tr th {\n",
       "        vertical-align: top;\n",
       "    }\n",
       "\n",
       "    .dataframe thead th {\n",
       "        text-align: right;\n",
       "    }\n",
       "</style>\n",
       "<table border=\"1\" class=\"dataframe\">\n",
       "  <thead>\n",
       "    <tr style=\"text-align: right;\">\n",
       "      <th></th>\n",
       "      <th>High</th>\n",
       "      <th>Low</th>\n",
       "      <th>Open</th>\n",
       "      <th>Close</th>\n",
       "      <th>Volume</th>\n",
       "      <th>Adj Close</th>\n",
       "    </tr>\n",
       "    <tr>\n",
       "      <th>Date</th>\n",
       "      <th></th>\n",
       "      <th></th>\n",
       "      <th></th>\n",
       "      <th></th>\n",
       "      <th></th>\n",
       "      <th></th>\n",
       "    </tr>\n",
       "  </thead>\n",
       "  <tbody>\n",
       "    <tr>\n",
       "      <th>2014-12-31</th>\n",
       "      <td>65.779999</td>\n",
       "      <td>62.810001</td>\n",
       "      <td>65.059998</td>\n",
       "      <td>63.220001</td>\n",
       "      <td>4843100</td>\n",
       "      <td>63.220001</td>\n",
       "    </tr>\n",
       "    <tr>\n",
       "      <th>2015-01-02</th>\n",
       "      <td>66.900002</td>\n",
       "      <td>64.080002</td>\n",
       "      <td>64.900002</td>\n",
       "      <td>66.870003</td>\n",
       "      <td>5431400</td>\n",
       "      <td>66.870003</td>\n",
       "    </tr>\n",
       "    <tr>\n",
       "      <th>2015-01-05</th>\n",
       "      <td>68.500000</td>\n",
       "      <td>65.629997</td>\n",
       "      <td>67.599998</td>\n",
       "      <td>66.190002</td>\n",
       "      <td>5382100</td>\n",
       "      <td>66.190002</td>\n",
       "    </tr>\n",
       "    <tr>\n",
       "      <th>2015-01-06</th>\n",
       "      <td>67.250000</td>\n",
       "      <td>63.310001</td>\n",
       "      <td>66.849998</td>\n",
       "      <td>64.849998</td>\n",
       "      <td>3777800</td>\n",
       "      <td>64.849998</td>\n",
       "    </tr>\n",
       "    <tr>\n",
       "      <th>2015-01-07</th>\n",
       "      <td>66.449997</td>\n",
       "      <td>60.250000</td>\n",
       "      <td>65.589996</td>\n",
       "      <td>62.450001</td>\n",
       "      <td>6662000</td>\n",
       "      <td>62.450001</td>\n",
       "    </tr>\n",
       "  </tbody>\n",
       "</table>\n",
       "</div>"
      ],
      "text/plain": [
       "                 High        Low       Open      Close   Volume  Adj Close\n",
       "Date                                                                      \n",
       "2014-12-31  65.779999  62.810001  65.059998  63.220001  4843100  63.220001\n",
       "2015-01-02  66.900002  64.080002  64.900002  66.870003  5431400  66.870003\n",
       "2015-01-05  68.500000  65.629997  67.599998  66.190002  5382100  66.190002\n",
       "2015-01-06  67.250000  63.310001  66.849998  64.849998  3777800  64.849998\n",
       "2015-01-07  66.449997  60.250000  65.589996  62.450001  6662000  62.450001"
      ]
     },
     "execution_count": 6,
     "metadata": {},
     "output_type": "execute_result"
    }
   ],
   "source": [
    "GPRO.head()"
   ]
  },
  {
   "cell_type": "code",
   "execution_count": 7,
   "metadata": {},
   "outputs": [
    {
     "data": {
      "text/plain": [
       "976"
      ]
     },
     "execution_count": 7,
     "metadata": {},
     "output_type": "execute_result"
    }
   ],
   "source": [
    "len(GPRO)"
   ]
  },
  {
   "cell_type": "code",
   "execution_count": 8,
   "metadata": {},
   "outputs": [],
   "source": [
    "import random\n",
    "import scipy\n",
    "import numpy\n",
    "import matplotlib.pyplot as plt"
   ]
  },
  {
   "cell_type": "code",
   "execution_count": 9,
   "metadata": {},
   "outputs": [],
   "source": [
    "def CLT(vector):\n",
    "    arr = []\n",
    "    for i in range(100):\n",
    "        arr.append(sum(random.sample(vector,100)))\n",
    "    return arr"
   ]
  },
  {
   "cell_type": "code",
   "execution_count": 10,
   "metadata": {},
   "outputs": [],
   "source": [
    "arr = []\n",
    "for i in range(10000):\n",
    "        arr.append(sum(random.sample(list(GPRO.Close.values),100))/100)"
   ]
  },
  {
   "cell_type": "code",
   "execution_count": 11,
   "metadata": {
    "scrolled": false
   },
   "outputs": [
    {
     "data": {
      "text/plain": [
       "(array([3.000e+00, 6.000e+00, 1.800e+01, 6.000e+01, 8.700e+01, 1.740e+02,\n",
       "        2.790e+02, 4.720e+02, 6.290e+02, 8.110e+02, 9.320e+02, 1.063e+03,\n",
       "        1.073e+03, 1.017e+03, 9.260e+02, 7.480e+02, 5.850e+02, 4.120e+02,\n",
       "        2.900e+02, 1.940e+02, 9.900e+01, 6.700e+01, 2.100e+01, 2.100e+01,\n",
       "        6.000e+00, 2.000e+00, 2.000e+00, 2.000e+00, 0.000e+00, 1.000e+00]),\n",
       " array([12.5176    , 12.94383   , 13.37006   , 13.79628999, 14.22251999,\n",
       "        14.64874999, 15.07497999, 15.50120999, 15.92743999, 16.35366999,\n",
       "        16.77989998, 17.20612998, 17.63235998, 18.05858998, 18.48481998,\n",
       "        18.91104998, 19.33727998, 19.76350998, 20.18973997, 20.61596997,\n",
       "        21.04219997, 21.46842997, 21.89465997, 22.32088997, 22.74711997,\n",
       "        23.17334997, 23.59957996, 24.02580996, 24.45203996, 24.87826996,\n",
       "        25.30449996]),\n",
       " <a list of 30 Patch objects>)"
      ]
     },
     "execution_count": 11,
     "metadata": {},
     "output_type": "execute_result"
    },
    {
     "data": {
      "image/png": "[encoded data removed]",
      "text/plain": [
       "<Figure size 432x288 with 1 Axes>"
      ]
     },
     "metadata": {},
     "output_type": "display_data"
    }
   ],
   "source": [
    "plt.hist(arr, bins=30)"
   ]
  },
  {
   "cell_type": "code",
   "execution_count": 12,
   "metadata": {},
   "outputs": [
    {
     "data": {
      "text/html": [
       "<div>\n",
       "<style scoped>\n",
       "    .dataframe tbody tr th:only-of-type {\n",
       "        vertical-align: middle;\n",
       "    }\n",
       "\n",
       "    .dataframe tbody tr th {\n",
       "        vertical-align: top;\n",
       "    }\n",
       "\n",
       "    .dataframe thead th {\n",
       "        text-align: right;\n",
       "    }\n",
       "</style>\n",
       "<table border=\"1\" class=\"dataframe\">\n",
       "  <thead>\n",
       "    <tr style=\"text-align: right;\">\n",
       "      <th></th>\n",
       "      <th>High</th>\n",
       "      <th>Low</th>\n",
       "      <th>Open</th>\n",
       "      <th>Close</th>\n",
       "      <th>Volume</th>\n",
       "      <th>Adj Close</th>\n",
       "    </tr>\n",
       "  </thead>\n",
       "  <tbody>\n",
       "    <tr>\n",
       "      <th>count</th>\n",
       "      <td>976.000000</td>\n",
       "      <td>976.000000</td>\n",
       "      <td>976.000000</td>\n",
       "      <td>976.000000</td>\n",
       "      <td>9.760000e+02</td>\n",
       "      <td>976.000000</td>\n",
       "    </tr>\n",
       "    <tr>\n",
       "      <th>mean</th>\n",
       "      <td>18.338255</td>\n",
       "      <td>17.463071</td>\n",
       "      <td>17.919749</td>\n",
       "      <td>17.861486</td>\n",
       "      <td>5.910225e+06</td>\n",
       "      <td>17.861486</td>\n",
       "    </tr>\n",
       "    <tr>\n",
       "      <th>std</th>\n",
       "      <td>16.908739</td>\n",
       "      <td>16.146979</td>\n",
       "      <td>16.582632</td>\n",
       "      <td>16.502855</td>\n",
       "      <td>5.021708e+06</td>\n",
       "      <td>16.502855</td>\n",
       "    </tr>\n",
       "    <tr>\n",
       "      <th>min</th>\n",
       "      <td>4.660000</td>\n",
       "      <td>4.420000</td>\n",
       "      <td>4.480000</td>\n",
       "      <td>4.530000</td>\n",
       "      <td>6.875000e+05</td>\n",
       "      <td>4.530000</td>\n",
       "    </tr>\n",
       "    <tr>\n",
       "      <th>25%</th>\n",
       "      <td>8.118750</td>\n",
       "      <td>7.910000</td>\n",
       "      <td>7.997500</td>\n",
       "      <td>7.987500</td>\n",
       "      <td>2.986050e+06</td>\n",
       "      <td>7.987500</td>\n",
       "    </tr>\n",
       "    <tr>\n",
       "      <th>50%</th>\n",
       "      <td>10.372500</td>\n",
       "      <td>9.830000</td>\n",
       "      <td>10.020000</td>\n",
       "      <td>10.010000</td>\n",
       "      <td>4.634050e+06</td>\n",
       "      <td>10.010000</td>\n",
       "    </tr>\n",
       "    <tr>\n",
       "      <th>75%</th>\n",
       "      <td>18.957500</td>\n",
       "      <td>17.865000</td>\n",
       "      <td>18.190000</td>\n",
       "      <td>18.272501</td>\n",
       "      <td>7.046450e+06</td>\n",
       "      <td>18.272501</td>\n",
       "    </tr>\n",
       "    <tr>\n",
       "      <th>max</th>\n",
       "      <td>68.500000</td>\n",
       "      <td>65.629997</td>\n",
       "      <td>67.599998</td>\n",
       "      <td>66.870003</td>\n",
       "      <td>5.977670e+07</td>\n",
       "      <td>66.870003</td>\n",
       "    </tr>\n",
       "  </tbody>\n",
       "</table>\n",
       "</div>"
      ],
      "text/plain": [
       "             High         Low        Open       Close        Volume  \\\n",
       "count  976.000000  976.000000  976.000000  976.000000  9.760000e+02   \n",
       "mean    18.338255   17.463071   17.919749   17.861486  5.910225e+06   \n",
       "std     16.908739   16.146979   16.582632   16.502855  5.021708e+06   \n",
       "min      4.660000    4.420000    4.480000    4.530000  6.875000e+05   \n",
       "25%      8.118750    7.910000    7.997500    7.987500  2.986050e+06   \n",
       "50%     10.372500    9.830000   10.020000   10.010000  4.634050e+06   \n",
       "75%     18.957500   17.865000   18.190000   18.272501  7.046450e+06   \n",
       "max     68.500000   65.629997   67.599998   66.870003  5.977670e+07   \n",
       "\n",
       "        Adj Close  \n",
       "count  976.000000  \n",
       "mean    17.861486  \n",
       "std     16.502855  \n",
       "min      4.530000  \n",
       "25%      7.987500  \n",
       "50%     10.010000  \n",
       "75%     18.272501  \n",
       "max     66.870003  "
      ]
     },
     "execution_count": 12,
     "metadata": {},
     "output_type": "execute_result"
    }
   ],
   "source": [
    "GPRO.describe()"
   ]
  },
  {
   "cell_type": "code",
   "execution_count": null,
   "metadata": {},
   "outputs": [],
   "source": []
  }
 ],
 "metadata": {
  "kernelspec": {
   "display_name": "Python [conda env:gopro]",
   "language": "python",
   "name": "conda-env-gopro-py"
  },
  "language_info": {
   "codemirror_mode": {
    "name": "ipython",
    "version": 3
   },
   "file_extension": ".py",
   "mimetype": "text/x-python",
   "name": "python",
   "nbconvert_exporter": "python",
   "pygments_lexer": "ipython3",
   "version": "3.7.0"
  }
 },
 "nbformat": 4,
 "nbformat_minor": 2
}
